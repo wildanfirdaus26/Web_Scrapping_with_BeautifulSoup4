{
 "cells": [
  {
   "cell_type": "markdown",
   "metadata": {},
   "source": [
    "# Capstone Webscrapping using BeautifulSoup\n",
    "\n",
    "This notebook contains guidances & tasks on the data processing for the application\n",
    "\n",
    "In this project, i will scrape a data from the website https://www.exchange-rates.org/history/IDR/USD/TI, which is about the historical exchange rates between the Indonesian Rupiah (IDR) and the US Dollar (USD). From this data, I will visualize the data with a flaskdash board. The data that be visualized is the highest, lowest and average money exchange rates every month (from June, 1st 2020 until November, 25th 2020)\n",
    "\n",
    "This notebook also contains the steps I took to perform web scrapping using `BeautifulSoup` and data visualization with flask dashboard. The steps are described below :\n",
    "1. Requesting the Data and Creating a BeautifulSoup\n",
    "2. Finding the right key to scrap the data & Extracting the right information\n",
    "3. Creating data frame & Data wrangling \\\n",
    "    a. Put the array into dataframe \\\n",
    "    b. Do data cleaning dan data wrangling \\\n",
    "    c. First data visualization using `matplotlib` \\\n",
    "    d. Implementing webscrapping to the flask dashboard\n",
    "4. Analysis and Conclusion\n",
    "\n",
    "\n",
    "## Requesting the Data and Creating a BeautifulSoup\n",
    "\n",
    "Let's begin with requesting the web from the site with `get` method."
   ]
  },
  {
   "cell_type": "code",
   "execution_count": 1,
   "metadata": {
    "ExecuteTime": {
     "end_time": "2020-11-27T11:08:07.206002Z",
     "start_time": "2020-11-27T11:08:03.381889Z"
    }
   },
   "outputs": [],
   "source": [
    "import requests\n",
    "\n",
    "url_get = requests.get('https://www.exchange-rates.org/history/IDR/USD/T')"
   ]
  },
  {
   "cell_type": "markdown",
   "metadata": {},
   "source": [
    "To visualize what exactly you get from the `request.get`, we can use .content so ee what we exactly get, in here i slice it so it won't make our screen full of the html we get from the page. You can delete the slicing if you want to see what we fully get."
   ]
  },
  {
   "cell_type": "code",
   "execution_count": 2,
   "metadata": {
    "ExecuteTime": {
     "end_time": "2020-11-27T11:08:07.253975Z",
     "start_time": "2020-11-27T11:08:07.211002Z"
    }
   },
   "outputs": [
    {
     "data": {
      "text/plain": [
       "b'\\n<!DOCTYPE html>\\r\\n<!--[if lt IE 9]>\\r\\n    <html class=\"no-js ie8 oldie\" lang=\\'en\\' xml:lang=\\'en\\'>\\r\\n<![endif]-->\\r\\n<!--[if gt IE 8]><!--> <html class=\"no-js\" lang=\\'en\\' xml:lang=\\'en\\'> <!--<![endif]-->\\r\\n<head><title>Indonesian Rupiah Exchange Rate - US Dollar - Historical Exchange Rates</title>\\n<meta http-equiv=\"X-UA-Compatible\" content=\"IE=edge\">\\n<meta content=\"C#\" name=\"CODE_LANGUAGE\" />\\n<meta content=\"JavaScript\" name=\"vs_defaultClientScript\" />\\n<meta content=\"http://schemas.microsoft.com/intellisense/ie5\" name=\"vs_targetSchema\" />\\n<meta name=\"viewport\" content=\"width=device-width, initial-scale=1, maximum-scale=5\">\\n<meta http-equiv=\"Content-Type\" content=\"text/html; charset=utf-8\" />\\n\\n<meta name=\"mapping\" content=\"AP\" />\\n<base href=\"https://www.exchange-rates.org/\" />'"
      ]
     },
     "execution_count": 2,
     "metadata": {},
     "output_type": "execute_result"
    }
   ],
   "source": [
    "url_get.content[1:777]"
   ]
  },
  {
   "cell_type": "markdown",
   "metadata": {},
   "source": [
    "As we can see we get a very unstructured and complex html, which actually contains the codes needed to show the webpages on your web browser. But we as human still confused what and where we can use that piece of code, so here where we use the beautifulsoup. Beautiful soup class will result a beautifulsoup object. Beautiful Soup transforms a complex HTML document into a complex tree of Python objects. \n",
    "\n",
    "Let's make Beautiful soup object and feel free to explore the object here."
   ]
  },
  {
   "cell_type": "code",
   "execution_count": 3,
   "metadata": {
    "ExecuteTime": {
     "end_time": "2020-11-27T11:08:09.553146Z",
     "start_time": "2020-11-27T11:08:07.259971Z"
    }
   },
   "outputs": [
    {
     "name": "stdout",
     "output_type": "stream",
     "text": [
      "<class 'bs4.BeautifulSoup'>\n"
     ]
    }
   ],
   "source": [
    "from bs4 import BeautifulSoup \n",
    "\n",
    "soup = BeautifulSoup(url_get.content,\"html.parser\")\n",
    "print(type(soup))"
   ]
  },
  {
   "cell_type": "code",
   "execution_count": 4,
   "metadata": {
    "ExecuteTime": {
     "end_time": "2020-11-27T11:08:09.694059Z",
     "start_time": "2020-11-27T11:08:09.568137Z"
    }
   },
   "outputs": [
    {
     "name": "stdout",
     "output_type": "stream",
     "text": [
      "<!DOCTYPE html>\n",
      "<!--[if lt IE 9]>\r\n",
      "    <html class=\"no-js ie8 oldie\" lang='en' xml:lang='en'>\r\n",
      "<![endif]-->\n",
      "<!--[if gt IE 8]><!-->\n",
      "<html class=\"no-js\" lang=\"en\" xml:lang=\"en\">\n",
      " <!--<![endif]-->\n",
      " <head>\n",
      "  <title>\n",
      "   Indonesian Rupiah Exchange Rate - US Dollar - Historical Exchange Rates\n",
      "  </title>\n",
      "  <meta content=\"IE=edge\" http-equiv=\"X-UA-Compatible\"/>\n",
      "  <meta content=\"C#\" name=\"CODE_LANGUAGE\">\n",
      "   <meta content=\"JavaScript\" name=\"vs_defaultClientScript\"/>\n",
      "   <meta content=\"http://schemas.microsoft.com/intellisense/ie5\" name=\"vs_targetSchema\"/>\n",
      "   <meta content=\"width=device-width, initial-scale=1, maximum-scale=5\" name=\"viewport\"/>\n",
      "   <meta content=\"text/html; charset=utf-8\" http-equiv=\"Content-Type\">\n",
      "    <meta content=\"AP\" name=\"mapping\"/>\n",
      "    <base href=\"https://www.exchange-rates.org/\"/>\n",
      "    <link href=\"https://ajax.googleapis.com/\" rel=\"dns-prefetch\"/>\n",
      "    <link href=\"https://www.google-analytics.com/\" rel=\"dns-prefetch\"/>\n",
      "    <link as=\"image\" href=\"https://dol8qrceshfrq.cloudfront.net/cache/2020-03-18-01-05-58/img/bgr-patter\n"
     ]
    }
   ],
   "source": [
    "print(soup.prettify()[:1045])"
   ]
  },
  {
   "cell_type": "markdown",
   "metadata": {},
   "source": [
    "## Finding the right key to scrap the data & Extracting the right information"
   ]
  },
  {
   "cell_type": "markdown",
   "metadata": {},
   "source": [
    "Find the key and put the key into the `.find()` Put all the exploring the right key at this cell. (please change this markdown with your explanation)"
   ]
  },
  {
   "cell_type": "code",
   "execution_count": 5,
   "metadata": {
    "ExecuteTime": {
     "end_time": "2020-11-27T11:08:09.832973Z",
     "start_time": "2020-11-27T11:08:09.701055Z"
    },
    "scrolled": true
   },
   "outputs": [
    {
     "name": "stdout",
     "output_type": "stream",
     "text": [
      "table class=\"table table-striped table-hover table-hover-solid-row table-simple history-data\">\n",
      " <tbody>\n",
      "  <tr>\n",
      "   <td>\n",
      "    11/26/2020\n",
      "   </td>\n",
      "   <td>\n",
      "    Thursday\n",
      "   </td>\n",
      "   <td>\n",
      "    <a href=\"/Rate/USD/IDR/11-26-2020\">\n",
      "     14,090.70769\n",
      "    </a>\n",
      "    IDR\n",
      "   </td>\n",
      "   <td class=\"text-narrow-screen-hidden\">\n",
      "    <a href=\"/Rate/USD/IDR/11-26-2020\">\n",
      "     USD IDR rate for 11/26/2020\n",
      "    </a>\n",
      "   </td>\n",
      "  </tr>\n",
      "  <tr>\n",
      "   <td>\n",
      "    11/25/2020\n",
      "   </td>\n",
      "   <td>\n",
      "    Wednesday\n",
      "   </td>\n",
      "   <td>\n",
      "    <a href=\"/R\n"
     ]
    }
   ],
   "source": [
    "table = soup.find('table', attrs={'class':'table table-striped table-hover table-hover-solid-row table-simple history-data'})\n",
    "print(table.prettify()[1:500])"
   ]
  },
  {
   "cell_type": "code",
   "execution_count": 6,
   "metadata": {
    "ExecuteTime": {
     "end_time": "2020-11-27T11:08:10.019859Z",
     "start_time": "2020-11-27T11:08:09.839971Z"
    }
   },
   "outputs": [
    {
     "data": {
      "text/plain": [
       "[<tr><td>11/26/2020</td><td>Thursday</td><td><a href=\"/Rate/USD/IDR/11-26-2020\">14,090.70769</a> IDR</td><td class=\"text-narrow-screen-hidden\"><a href=\"/Rate/USD/IDR/11-26-2020\">USD IDR rate for 11/26/2020</a></td></tr>,\n",
       " <tr><td>11/25/2020</td><td>Wednesday</td><td><a href=\"/Rate/USD/IDR/11-25-2020\">14,136.09929</a> IDR</td><td class=\"text-narrow-screen-hidden\"><a href=\"/Rate/USD/IDR/11-25-2020\">USD IDR rate for 11/25/2020</a></td></tr>]"
      ]
     },
     "execution_count": 6,
     "metadata": {},
     "output_type": "execute_result"
    }
   ],
   "source": [
    "tr = table.find_all('tr')\n",
    "tr[:2]"
   ]
  },
  {
   "cell_type": "markdown",
   "metadata": {},
   "source": [
    "Do the scrapping process here (please change this markdown with your explanation)"
   ]
  },
  {
   "cell_type": "code",
   "execution_count": 7,
   "metadata": {
    "ExecuteTime": {
     "end_time": "2020-11-27T11:08:10.618489Z",
     "start_time": "2020-11-27T11:08:10.024857Z"
    }
   },
   "outputs": [
    {
     "data": {
      "text/plain": [
       "[('11/25/2020', '14,136.09929 IDR'),\n",
       " ('11/24/2020', '14,137.48161 IDR'),\n",
       " ('11/23/2020', '14,185.57119 IDR'),\n",
       " ('11/20/2020', '14,162.60519 IDR'),\n",
       " ('11/19/2020', '14,165.50144 IDR'),\n",
       " ('11/18/2020', '14,051.29503 IDR'),\n",
       " ('11/17/2020', '14,040.16051 IDR'),\n",
       " ('11/16/2020', '14,085.69501 IDR'),\n",
       " ('11/13/2020', '14,142.77143 IDR'),\n",
       " ('11/12/2020', '14,141.24303 IDR'),\n",
       " ('11/11/2020', '14,073.46024 IDR'),\n",
       " ('11/10/2020', '14,053.76135 IDR'),\n",
       " ('11/9/2020', '14,283.29667 IDR'),\n",
       " ('11/6/2020', '14,214.49744 IDR'),\n",
       " ('11/5/2020', '14,389.14027 IDR'),\n",
       " ('11/4/2020', '14,544.44634 IDR'),\n",
       " ('11/3/2020', '14,589.01774 IDR'),\n",
       " ('11/2/2020', '14,612.89990 IDR'),\n",
       " ('10/30/2020', '14,629.16216 IDR'),\n",
       " ('10/29/2020', '14,701.62361 IDR'),\n",
       " ('10/28/2020', '14,701.92586 IDR'),\n",
       " ('10/27/2020', '14,649.78960 IDR'),\n",
       " ('10/26/2020', '14,652.88010 IDR'),\n",
       " ('10/23/2020', '14,655.04157 IDR'),\n",
       " ('10/22/2020', '14,647.90877 IDR'),\n",
       " ('10/21/2020', '14,641.61060 IDR'),\n",
       " ('10/20/2020', '14,555.88071 IDR'),\n",
       " ('10/19/2020', '14,705.13256 IDR'),\n",
       " ('10/16/2020', '14,688.43616 IDR'),\n",
       " ('10/15/2020', '14,667.95340 IDR'),\n",
       " ('10/14/2020', '14,696.21912 IDR'),\n",
       " ('10/13/2020', '14,687.35100 IDR'),\n",
       " ('10/12/2020', '14,677.85296 IDR'),\n",
       " ('10/9/2020', '14,679.27910 IDR'),\n",
       " ('10/8/2020', '14,692.93025 IDR'),\n",
       " ('10/7/2020', '14,705.58246 IDR'),\n",
       " ('10/6/2020', '14,857.67854 IDR'),\n",
       " ('10/5/2020', '14,797.90178 IDR'),\n",
       " ('10/2/2020', '14,852.30483 IDR'),\n",
       " ('10/1/2020', '14,822.66605 IDR'),\n",
       " ('9/30/2020', '14,867.44686 IDR'),\n",
       " ('9/29/2020', '14,880.93210 IDR'),\n",
       " ('9/28/2020', '14,892.32194 IDR'),\n",
       " ('9/27/2020', '14,859.98349 IDR'),\n",
       " ('9/25/2020', '14,855.63943 IDR'),\n",
       " ('9/24/2020', '14,888.78607 IDR'),\n",
       " ('9/23/2020', '14,825.54899 IDR'),\n",
       " ('9/22/2020', '14,751.85786 IDR'),\n",
       " ('9/21/2020', '14,701.43420 IDR'),\n",
       " ('9/20/2020', '14,728.84529 IDR'),\n",
       " ('9/18/2020', '14,730.71792 IDR'),\n",
       " ('9/17/2020', '14,829.41738 IDR'),\n",
       " ('9/16/2020', '14,807.88761 IDR'),\n",
       " ('9/15/2020', '14,843.44670 IDR'),\n",
       " ('9/14/2020', '14,864.65988 IDR'),\n",
       " ('9/13/2020', '14,876.45021 IDR'),\n",
       " ('9/11/2020', '14,865.27553 IDR'),\n",
       " ('9/10/2020', '14,871.58664 IDR'),\n",
       " ('9/9/2020', '14,783.50009 IDR'),\n",
       " ('9/8/2020', '14,839.54267 IDR'),\n",
       " ('9/7/2020', '14,743.92989 IDR'),\n",
       " ('9/6/2020', '14,754.95155 IDR'),\n",
       " ('9/4/2020', '14,755.44144 IDR'),\n",
       " ('9/3/2020', '14,725.75623 IDR'),\n",
       " ('9/2/2020', '14,752.83593 IDR'),\n",
       " ('9/1/2020', '14,657.30327 IDR'),\n",
       " ('8/31/2020', '14,538.95869 IDR'),\n",
       " ('8/30/2020', '14,620.74081 IDR'),\n",
       " ('8/28/2020', '14,624.63146 IDR'),\n",
       " ('8/27/2020', '14,641.58320 IDR'),\n",
       " ('8/26/2020', '14,650.54899 IDR'),\n",
       " ('8/25/2020', '14,634.54337 IDR'),\n",
       " ('8/24/2020', '14,723.44674 IDR'),\n",
       " ('8/23/2020', '14,777.76475 IDR'),\n",
       " ('8/21/2020', '14,779.64056 IDR'),\n",
       " ('8/20/2020', '14,744.53672 IDR'),\n",
       " ('8/19/2020', '14,892.13287 IDR'),\n",
       " ('8/18/2020', '14,840.94794 IDR'),\n",
       " ('8/17/2020', '14,745.02603 IDR'),\n",
       " ('8/16/2020', '14,752.59007 IDR'),\n",
       " ('8/14/2020', '14,755.08179 IDR'),\n",
       " ('8/13/2020', '14,730.67678 IDR'),\n",
       " ('8/12/2020', '14,746.93479 IDR'),\n",
       " ('8/11/2020', '14,683.96263 IDR'),\n",
       " ('8/10/2020', '14,635.89132 IDR'),\n",
       " ('8/9/2020', '14,668.96550 IDR'),\n",
       " ('8/7/2020', '14,606.06472 IDR'),\n",
       " ('8/6/2020', '14,572.05634 IDR'),\n",
       " ('8/5/2020', '14,510.27288 IDR'),\n",
       " ('8/4/2020', '14,535.77574 IDR'),\n",
       " ('8/3/2020', '14,578.90531 IDR'),\n",
       " ('8/2/2020', '14,636.91361 IDR'),\n",
       " ('7/31/2020', '14,640.92152 IDR'),\n",
       " ('7/30/2020', '14,552.65469 IDR'),\n",
       " ('7/29/2020', '14,500.86496 IDR'),\n",
       " ('7/28/2020', '14,572.13548 IDR'),\n",
       " ('7/27/2020', '14,505.01200 IDR'),\n",
       " ('7/26/2020', '14,578.95006 IDR'),\n",
       " ('7/24/2020', '14,568.35458 IDR'),\n",
       " ('7/23/2020', '14,605.50142 IDR'),\n",
       " ('7/22/2020', '14,651.65404 IDR'),\n",
       " ('7/21/2020', '14,679.86959 IDR'),\n",
       " ('7/20/2020', '14,773.77977 IDR'),\n",
       " ('7/17/2020', '14,690.05172 IDR'),\n",
       " ('7/16/2020', '14,564.60810 IDR'),\n",
       " ('7/15/2020', '14,589.26616 IDR'),\n",
       " ('7/14/2020', '14,417.89081 IDR'),\n",
       " ('7/13/2020', '14,390.84796 IDR'),\n",
       " ('7/12/2020', '14,420.01800 IDR'),\n",
       " ('7/10/2020', '14,365.25218 IDR'),\n",
       " ('7/9/2020', '14,343.31797 IDR'),\n",
       " ('7/8/2020', '14,378.37552 IDR'),\n",
       " ('7/7/2020', '14,445.31657 IDR'),\n",
       " ('7/6/2020', '14,289.25101 IDR'),\n",
       " ('7/5/2020', '14,498.63510 IDR'),\n",
       " ('7/3/2020', '14,488.65681 IDR'),\n",
       " ('7/2/2020', '14,378.36972 IDR'),\n",
       " ('7/1/2020', '14,256.13040 IDR'),\n",
       " ('6/30/2020', '14,296.90560 IDR'),\n",
       " ('6/29/2020', '14,183.53912 IDR'),\n",
       " ('6/28/2020', '14,185.08225 IDR'),\n",
       " ('6/26/2020', '14,190.21303 IDR'),\n",
       " ('6/25/2020', '14,130.57047 IDR'),\n",
       " ('6/24/2020', '14,143.17320 IDR'),\n",
       " ('6/23/2020', '14,148.27391 IDR'),\n",
       " ('6/22/2020', '14,136.05128 IDR'),\n",
       " ('6/21/2020', '14,068.55627 IDR'),\n",
       " ('6/19/2020', '14,077.63950 IDR'),\n",
       " ('6/18/2020', '14,095.36729 IDR'),\n",
       " ('6/17/2020', '14,120.02241 IDR'),\n",
       " ('6/16/2020', '14,046.73959 IDR'),\n",
       " ('6/15/2020', '14,021.62200 IDR'),\n",
       " ('6/14/2020', '14,145.23543 IDR'),\n",
       " ('6/12/2020', '14,121.55442 IDR'),\n",
       " ('6/11/2020', '13,966.85142 IDR'),\n",
       " ('6/10/2020', '13,976.91611 IDR'),\n",
       " ('6/9/2020', '13,870.75718 IDR'),\n",
       " ('6/8/2020', '13,867.95377 IDR'),\n",
       " ('6/7/2020', '13,989.39489 IDR'),\n",
       " ('6/5/2020', '14,305.96407 IDR'),\n",
       " ('6/4/2020', '14,113.82802 IDR'),\n",
       " ('6/3/2020', '14,060.78946 IDR'),\n",
       " ('6/2/2020', '14,382.27395 IDR'),\n",
       " ('6/1/2020', '14,586.73900 IDR'),\n",
       " ('5/31/2020', '14,664.14584 IDR')]"
      ]
     },
     "execution_count": 7,
     "metadata": {},
     "output_type": "execute_result"
    }
   ],
   "source": [
    "temp = [] #initiating a tuple\n",
    "\n",
    "for i in range(1, len(tr)):\n",
    "    #scrapping process\n",
    "    row = table.find_all('tr')[i]\n",
    "    \n",
    "    #get daily price (harga harian)\n",
    "    daily_price = row.find_all('td')[2].text\n",
    "    daily_price = daily_price.strip() #for removing the excess whitespace\n",
    "    \n",
    "    #get date (tanggal)\n",
    "    date = row.find_all('td')[0].text\n",
    "    date = date.strip() #for removing the excess whitespace\n",
    "    \n",
    "    temp.append((date,daily_price)) \n",
    "     \n",
    "temp "
   ]
  },
  {
   "cell_type": "code",
   "execution_count": 8,
   "metadata": {
    "ExecuteTime": {
     "end_time": "2020-11-27T11:08:10.664460Z",
     "start_time": "2020-11-27T11:08:10.626484Z"
    }
   },
   "outputs": [
    {
     "data": {
      "text/plain": [
       "[('5/31/2020', '14,664.14584 IDR'),\n",
       " ('6/1/2020', '14,586.73900 IDR'),\n",
       " ('6/2/2020', '14,382.27395 IDR'),\n",
       " ('6/3/2020', '14,060.78946 IDR'),\n",
       " ('6/4/2020', '14,113.82802 IDR'),\n",
       " ('6/5/2020', '14,305.96407 IDR'),\n",
       " ('6/7/2020', '13,989.39489 IDR'),\n",
       " ('6/8/2020', '13,867.95377 IDR'),\n",
       " ('6/9/2020', '13,870.75718 IDR'),\n",
       " ('6/10/2020', '13,976.91611 IDR'),\n",
       " ('6/11/2020', '13,966.85142 IDR'),\n",
       " ('6/12/2020', '14,121.55442 IDR'),\n",
       " ('6/14/2020', '14,145.23543 IDR'),\n",
       " ('6/15/2020', '14,021.62200 IDR'),\n",
       " ('6/16/2020', '14,046.73959 IDR'),\n",
       " ('6/17/2020', '14,120.02241 IDR'),\n",
       " ('6/18/2020', '14,095.36729 IDR'),\n",
       " ('6/19/2020', '14,077.63950 IDR'),\n",
       " ('6/21/2020', '14,068.55627 IDR'),\n",
       " ('6/22/2020', '14,136.05128 IDR'),\n",
       " ('6/23/2020', '14,148.27391 IDR'),\n",
       " ('6/24/2020', '14,143.17320 IDR'),\n",
       " ('6/25/2020', '14,130.57047 IDR'),\n",
       " ('6/26/2020', '14,190.21303 IDR'),\n",
       " ('6/28/2020', '14,185.08225 IDR'),\n",
       " ('6/29/2020', '14,183.53912 IDR'),\n",
       " ('6/30/2020', '14,296.90560 IDR'),\n",
       " ('7/1/2020', '14,256.13040 IDR'),\n",
       " ('7/2/2020', '14,378.36972 IDR'),\n",
       " ('7/3/2020', '14,488.65681 IDR'),\n",
       " ('7/5/2020', '14,498.63510 IDR'),\n",
       " ('7/6/2020', '14,289.25101 IDR'),\n",
       " ('7/7/2020', '14,445.31657 IDR'),\n",
       " ('7/8/2020', '14,378.37552 IDR'),\n",
       " ('7/9/2020', '14,343.31797 IDR'),\n",
       " ('7/10/2020', '14,365.25218 IDR'),\n",
       " ('7/12/2020', '14,420.01800 IDR'),\n",
       " ('7/13/2020', '14,390.84796 IDR'),\n",
       " ('7/14/2020', '14,417.89081 IDR'),\n",
       " ('7/15/2020', '14,589.26616 IDR'),\n",
       " ('7/16/2020', '14,564.60810 IDR'),\n",
       " ('7/17/2020', '14,690.05172 IDR'),\n",
       " ('7/20/2020', '14,773.77977 IDR'),\n",
       " ('7/21/2020', '14,679.86959 IDR'),\n",
       " ('7/22/2020', '14,651.65404 IDR'),\n",
       " ('7/23/2020', '14,605.50142 IDR'),\n",
       " ('7/24/2020', '14,568.35458 IDR'),\n",
       " ('7/26/2020', '14,578.95006 IDR'),\n",
       " ('7/27/2020', '14,505.01200 IDR'),\n",
       " ('7/28/2020', '14,572.13548 IDR'),\n",
       " ('7/29/2020', '14,500.86496 IDR'),\n",
       " ('7/30/2020', '14,552.65469 IDR'),\n",
       " ('7/31/2020', '14,640.92152 IDR'),\n",
       " ('8/2/2020', '14,636.91361 IDR'),\n",
       " ('8/3/2020', '14,578.90531 IDR'),\n",
       " ('8/4/2020', '14,535.77574 IDR'),\n",
       " ('8/5/2020', '14,510.27288 IDR'),\n",
       " ('8/6/2020', '14,572.05634 IDR'),\n",
       " ('8/7/2020', '14,606.06472 IDR'),\n",
       " ('8/9/2020', '14,668.96550 IDR'),\n",
       " ('8/10/2020', '14,635.89132 IDR'),\n",
       " ('8/11/2020', '14,683.96263 IDR'),\n",
       " ('8/12/2020', '14,746.93479 IDR'),\n",
       " ('8/13/2020', '14,730.67678 IDR'),\n",
       " ('8/14/2020', '14,755.08179 IDR'),\n",
       " ('8/16/2020', '14,752.59007 IDR'),\n",
       " ('8/17/2020', '14,745.02603 IDR'),\n",
       " ('8/18/2020', '14,840.94794 IDR'),\n",
       " ('8/19/2020', '14,892.13287 IDR'),\n",
       " ('8/20/2020', '14,744.53672 IDR'),\n",
       " ('8/21/2020', '14,779.64056 IDR'),\n",
       " ('8/23/2020', '14,777.76475 IDR'),\n",
       " ('8/24/2020', '14,723.44674 IDR'),\n",
       " ('8/25/2020', '14,634.54337 IDR'),\n",
       " ('8/26/2020', '14,650.54899 IDR'),\n",
       " ('8/27/2020', '14,641.58320 IDR'),\n",
       " ('8/28/2020', '14,624.63146 IDR'),\n",
       " ('8/30/2020', '14,620.74081 IDR'),\n",
       " ('8/31/2020', '14,538.95869 IDR'),\n",
       " ('9/1/2020', '14,657.30327 IDR'),\n",
       " ('9/2/2020', '14,752.83593 IDR'),\n",
       " ('9/3/2020', '14,725.75623 IDR'),\n",
       " ('9/4/2020', '14,755.44144 IDR'),\n",
       " ('9/6/2020', '14,754.95155 IDR'),\n",
       " ('9/7/2020', '14,743.92989 IDR'),\n",
       " ('9/8/2020', '14,839.54267 IDR'),\n",
       " ('9/9/2020', '14,783.50009 IDR'),\n",
       " ('9/10/2020', '14,871.58664 IDR'),\n",
       " ('9/11/2020', '14,865.27553 IDR'),\n",
       " ('9/13/2020', '14,876.45021 IDR'),\n",
       " ('9/14/2020', '14,864.65988 IDR'),\n",
       " ('9/15/2020', '14,843.44670 IDR'),\n",
       " ('9/16/2020', '14,807.88761 IDR'),\n",
       " ('9/17/2020', '14,829.41738 IDR'),\n",
       " ('9/18/2020', '14,730.71792 IDR'),\n",
       " ('9/20/2020', '14,728.84529 IDR'),\n",
       " ('9/21/2020', '14,701.43420 IDR'),\n",
       " ('9/22/2020', '14,751.85786 IDR'),\n",
       " ('9/23/2020', '14,825.54899 IDR'),\n",
       " ('9/24/2020', '14,888.78607 IDR'),\n",
       " ('9/25/2020', '14,855.63943 IDR'),\n",
       " ('9/27/2020', '14,859.98349 IDR'),\n",
       " ('9/28/2020', '14,892.32194 IDR'),\n",
       " ('9/29/2020', '14,880.93210 IDR'),\n",
       " ('9/30/2020', '14,867.44686 IDR'),\n",
       " ('10/1/2020', '14,822.66605 IDR'),\n",
       " ('10/2/2020', '14,852.30483 IDR'),\n",
       " ('10/5/2020', '14,797.90178 IDR'),\n",
       " ('10/6/2020', '14,857.67854 IDR'),\n",
       " ('10/7/2020', '14,705.58246 IDR'),\n",
       " ('10/8/2020', '14,692.93025 IDR'),\n",
       " ('10/9/2020', '14,679.27910 IDR'),\n",
       " ('10/12/2020', '14,677.85296 IDR'),\n",
       " ('10/13/2020', '14,687.35100 IDR'),\n",
       " ('10/14/2020', '14,696.21912 IDR'),\n",
       " ('10/15/2020', '14,667.95340 IDR'),\n",
       " ('10/16/2020', '14,688.43616 IDR'),\n",
       " ('10/19/2020', '14,705.13256 IDR'),\n",
       " ('10/20/2020', '14,555.88071 IDR'),\n",
       " ('10/21/2020', '14,641.61060 IDR'),\n",
       " ('10/22/2020', '14,647.90877 IDR'),\n",
       " ('10/23/2020', '14,655.04157 IDR'),\n",
       " ('10/26/2020', '14,652.88010 IDR'),\n",
       " ('10/27/2020', '14,649.78960 IDR'),\n",
       " ('10/28/2020', '14,701.92586 IDR'),\n",
       " ('10/29/2020', '14,701.62361 IDR'),\n",
       " ('10/30/2020', '14,629.16216 IDR'),\n",
       " ('11/2/2020', '14,612.89990 IDR'),\n",
       " ('11/3/2020', '14,589.01774 IDR'),\n",
       " ('11/4/2020', '14,544.44634 IDR'),\n",
       " ('11/5/2020', '14,389.14027 IDR'),\n",
       " ('11/6/2020', '14,214.49744 IDR'),\n",
       " ('11/9/2020', '14,283.29667 IDR'),\n",
       " ('11/10/2020', '14,053.76135 IDR'),\n",
       " ('11/11/2020', '14,073.46024 IDR'),\n",
       " ('11/12/2020', '14,141.24303 IDR'),\n",
       " ('11/13/2020', '14,142.77143 IDR'),\n",
       " ('11/16/2020', '14,085.69501 IDR'),\n",
       " ('11/17/2020', '14,040.16051 IDR'),\n",
       " ('11/18/2020', '14,051.29503 IDR'),\n",
       " ('11/19/2020', '14,165.50144 IDR'),\n",
       " ('11/20/2020', '14,162.60519 IDR'),\n",
       " ('11/23/2020', '14,185.57119 IDR'),\n",
       " ('11/24/2020', '14,137.48161 IDR'),\n",
       " ('11/25/2020', '14,136.09929 IDR')]"
      ]
     },
     "execution_count": 8,
     "metadata": {},
     "output_type": "execute_result"
    }
   ],
   "source": [
    "#reverses the order of dates from past time to recent time\n",
    "temp = temp[::-1]\n",
    "temp"
   ]
  },
  {
   "cell_type": "markdown",
   "metadata": {},
   "source": [
    "## Creating data frame & Data wrangling"
   ]
  },
  {
   "cell_type": "markdown",
   "metadata": {},
   "source": [
    "### Put the array into dataframe"
   ]
  },
  {
   "cell_type": "code",
   "execution_count": 42,
   "metadata": {
    "ExecuteTime": {
     "end_time": "2020-11-27T13:41:45.143624Z",
     "start_time": "2020-11-27T13:41:45.117643Z"
    },
    "scrolled": true
   },
   "outputs": [
    {
     "data": {
      "text/html": [
       "<div>\n",
       "<style scoped>\n",
       "    .dataframe tbody tr th:only-of-type {\n",
       "        vertical-align: middle;\n",
       "    }\n",
       "\n",
       "    .dataframe tbody tr th {\n",
       "        vertical-align: top;\n",
       "    }\n",
       "\n",
       "    .dataframe thead th {\n",
       "        text-align: right;\n",
       "    }\n",
       "</style>\n",
       "<table border=\"1\" class=\"dataframe\">\n",
       "  <thead>\n",
       "    <tr style=\"text-align: right;\">\n",
       "      <th></th>\n",
       "      <th>date</th>\n",
       "      <th>daily_price</th>\n",
       "    </tr>\n",
       "  </thead>\n",
       "  <tbody>\n",
       "    <tr>\n",
       "      <th>0</th>\n",
       "      <td>5/31/2020</td>\n",
       "      <td>14,664.14584 IDR</td>\n",
       "    </tr>\n",
       "    <tr>\n",
       "      <th>1</th>\n",
       "      <td>6/1/2020</td>\n",
       "      <td>14,586.73900 IDR</td>\n",
       "    </tr>\n",
       "    <tr>\n",
       "      <th>2</th>\n",
       "      <td>6/2/2020</td>\n",
       "      <td>14,382.27395 IDR</td>\n",
       "    </tr>\n",
       "  </tbody>\n",
       "</table>\n",
       "</div>"
      ],
      "text/plain": [
       "        date       daily_price\n",
       "0  5/31/2020  14,664.14584 IDR\n",
       "1   6/1/2020  14,586.73900 IDR\n",
       "2   6/2/2020  14,382.27395 IDR"
      ]
     },
     "execution_count": 42,
     "metadata": {},
     "output_type": "execute_result"
    }
   ],
   "source": [
    "import pandas as pd\n",
    "import matplotlib as plt\n",
    "\n",
    "df = pd.DataFrame(temp, columns=('date','daily_price'))\n",
    "df.head(3)"
   ]
  },
  {
   "cell_type": "code",
   "execution_count": 43,
   "metadata": {
    "ExecuteTime": {
     "end_time": "2020-11-27T13:41:45.563156Z",
     "start_time": "2020-11-27T13:41:45.544169Z"
    }
   },
   "outputs": [
    {
     "data": {
      "text/plain": [
       "date           object\n",
       "daily_price    object\n",
       "dtype: object"
      ]
     },
     "execution_count": 43,
     "metadata": {},
     "output_type": "execute_result"
    }
   ],
   "source": [
    "# check data type per columns\n",
    "df.dtypes"
   ]
  },
  {
   "cell_type": "markdown",
   "metadata": {},
   "source": [
    "### Do the data cleaning here\n",
    "\n",
    "As wes can see in the data above, there are several types of data that are not suitable for presentation and cannot be used to process data.\n",
    "\n",
    "Now, I'm going to change the old data type to the true data type, like\n",
    "- `date` (object) -> `date` (datetime64)\n",
    "- `daily_price` (object) -> `daily_price` (float64)\n",
    "\n",
    "Basically, the `daily_price` cannot be changed directly to `float64` because there is **IDR** behind number. I also delete that, in order to `daily_price` type of data can be change. \n",
    "\n",
    "I also add new columns that name is `month`, and i changed data type to `category`"
   ]
  },
  {
   "cell_type": "code",
   "execution_count": 44,
   "metadata": {
    "ExecuteTime": {
     "end_time": "2020-11-27T13:41:46.544199Z",
     "start_time": "2020-11-27T13:41:46.481237Z"
    }
   },
   "outputs": [],
   "source": [
    "df['date'] = pd.to_datetime(df['date'])\n",
    "#df['daily_price'] = df['daily_price'].replace({'IDR': '', ',': ''}, regex=True).astype(float).round(2)\n",
    "df['daily_price'] = df['daily_price'].str.replace(',', '')\n",
    "df['daily_price'] = df['daily_price'].str.replace('IDR', '')\n",
    "df['daily_price'] = df['daily_price'].astype(float).round(2)"
   ]
  },
  {
   "cell_type": "code",
   "execution_count": 45,
   "metadata": {
    "ExecuteTime": {
     "end_time": "2020-11-27T13:41:46.949695Z",
     "start_time": "2020-11-27T13:41:46.915716Z"
    }
   },
   "outputs": [
    {
     "data": {
      "text/plain": [
       "date           datetime64[ns]\n",
       "month                category\n",
       "daily_price           float64\n",
       "dtype: object"
      ]
     },
     "execution_count": 45,
     "metadata": {},
     "output_type": "execute_result"
    }
   ],
   "source": [
    "df['month'] = df['date'].dt.month_name()\n",
    "df['month'] = df['month'].astype('category')\n",
    "df = df[['date', 'month', 'daily_price']] # order columns\n",
    "df.dtypes"
   ]
  },
  {
   "cell_type": "code",
   "execution_count": 46,
   "metadata": {
    "ExecuteTime": {
     "end_time": "2020-11-27T13:41:47.308925Z",
     "start_time": "2020-11-27T13:41:47.255954Z"
    },
    "scrolled": true
   },
   "outputs": [
    {
     "data": {
      "text/html": [
       "<div>\n",
       "<style scoped>\n",
       "    .dataframe tbody tr th:only-of-type {\n",
       "        vertical-align: middle;\n",
       "    }\n",
       "\n",
       "    .dataframe tbody tr th {\n",
       "        vertical-align: top;\n",
       "    }\n",
       "\n",
       "    .dataframe thead th {\n",
       "        text-align: right;\n",
       "    }\n",
       "</style>\n",
       "<table border=\"1\" class=\"dataframe\">\n",
       "  <thead>\n",
       "    <tr style=\"text-align: right;\">\n",
       "      <th></th>\n",
       "      <th>month</th>\n",
       "      <th>date</th>\n",
       "      <th>daily_price</th>\n",
       "    </tr>\n",
       "  </thead>\n",
       "  <tbody>\n",
       "    <tr>\n",
       "      <th>3</th>\n",
       "      <td>May</td>\n",
       "      <td>1</td>\n",
       "      <td>1</td>\n",
       "    </tr>\n",
       "    <tr>\n",
       "      <th>2</th>\n",
       "      <td>June</td>\n",
       "      <td>26</td>\n",
       "      <td>26</td>\n",
       "    </tr>\n",
       "    <tr>\n",
       "      <th>1</th>\n",
       "      <td>July</td>\n",
       "      <td>26</td>\n",
       "      <td>26</td>\n",
       "    </tr>\n",
       "    <tr>\n",
       "      <th>0</th>\n",
       "      <td>August</td>\n",
       "      <td>26</td>\n",
       "      <td>26</td>\n",
       "    </tr>\n",
       "    <tr>\n",
       "      <th>6</th>\n",
       "      <td>September</td>\n",
       "      <td>26</td>\n",
       "      <td>26</td>\n",
       "    </tr>\n",
       "    <tr>\n",
       "      <th>5</th>\n",
       "      <td>October</td>\n",
       "      <td>22</td>\n",
       "      <td>22</td>\n",
       "    </tr>\n",
       "    <tr>\n",
       "      <th>4</th>\n",
       "      <td>November</td>\n",
       "      <td>18</td>\n",
       "      <td>18</td>\n",
       "    </tr>\n",
       "  </tbody>\n",
       "</table>\n",
       "</div>"
      ],
      "text/plain": [
       "       month  date  daily_price\n",
       "3        May     1            1\n",
       "2       June    26           26\n",
       "1       July    26           26\n",
       "0     August    26           26\n",
       "6  September    26           26\n",
       "5    October    22           22\n",
       "4   November    18           18"
      ]
     },
     "execution_count": 46,
     "metadata": {},
     "output_type": "execute_result"
    }
   ],
   "source": [
    "df2 = df.copy()\n",
    "month_order = [\"May\", \"June\", \"July\", \"August\", \"September\", \"October\", \"November\"]\n",
    "df2 = df.groupby('month').count()\n",
    "df2 = df2.reset_index()\n",
    "df2['month'] = pd.Categorical(df2['month'], categories=month_order, ordered=True)\n",
    "df2 = df2.sort_values(by='month')\n",
    "df2"
   ]
  },
  {
   "cell_type": "markdown",
   "metadata": {},
   "source": [
    "If you look at the table above, there is one column which only shows one data from a month, more precisely in **May**. This can't be used because we don't know which data was the **highest** and **lowest** in **May**. So, I decided to delete that line.\n",
    "\n",
    "**A Data in May** is in top of `df` (not `df2`), it means there is in index = 0"
   ]
  },
  {
   "cell_type": "code",
   "execution_count": 47,
   "metadata": {
    "ExecuteTime": {
     "end_time": "2020-11-27T13:41:53.797873Z",
     "start_time": "2020-11-27T13:41:53.743906Z"
    },
    "scrolled": false
   },
   "outputs": [
    {
     "data": {
      "text/html": [
       "<div>\n",
       "<style scoped>\n",
       "    .dataframe tbody tr th:only-of-type {\n",
       "        vertical-align: middle;\n",
       "    }\n",
       "\n",
       "    .dataframe tbody tr th {\n",
       "        vertical-align: top;\n",
       "    }\n",
       "\n",
       "    .dataframe thead th {\n",
       "        text-align: right;\n",
       "    }\n",
       "</style>\n",
       "<table border=\"1\" class=\"dataframe\">\n",
       "  <thead>\n",
       "    <tr style=\"text-align: right;\">\n",
       "      <th></th>\n",
       "      <th>date</th>\n",
       "      <th>month</th>\n",
       "      <th>daily_price</th>\n",
       "    </tr>\n",
       "  </thead>\n",
       "  <tbody>\n",
       "    <tr>\n",
       "      <th>1</th>\n",
       "      <td>2020-06-01</td>\n",
       "      <td>June</td>\n",
       "      <td>14586.74</td>\n",
       "    </tr>\n",
       "    <tr>\n",
       "      <th>2</th>\n",
       "      <td>2020-06-02</td>\n",
       "      <td>June</td>\n",
       "      <td>14382.27</td>\n",
       "    </tr>\n",
       "    <tr>\n",
       "      <th>3</th>\n",
       "      <td>2020-06-03</td>\n",
       "      <td>June</td>\n",
       "      <td>14060.79</td>\n",
       "    </tr>\n",
       "    <tr>\n",
       "      <th>4</th>\n",
       "      <td>2020-06-04</td>\n",
       "      <td>June</td>\n",
       "      <td>14113.83</td>\n",
       "    </tr>\n",
       "    <tr>\n",
       "      <th>5</th>\n",
       "      <td>2020-06-05</td>\n",
       "      <td>June</td>\n",
       "      <td>14305.96</td>\n",
       "    </tr>\n",
       "    <tr>\n",
       "      <th>...</th>\n",
       "      <td>...</td>\n",
       "      <td>...</td>\n",
       "      <td>...</td>\n",
       "    </tr>\n",
       "    <tr>\n",
       "      <th>140</th>\n",
       "      <td>2020-11-19</td>\n",
       "      <td>November</td>\n",
       "      <td>14165.50</td>\n",
       "    </tr>\n",
       "    <tr>\n",
       "      <th>141</th>\n",
       "      <td>2020-11-20</td>\n",
       "      <td>November</td>\n",
       "      <td>14162.61</td>\n",
       "    </tr>\n",
       "    <tr>\n",
       "      <th>142</th>\n",
       "      <td>2020-11-23</td>\n",
       "      <td>November</td>\n",
       "      <td>14185.57</td>\n",
       "    </tr>\n",
       "    <tr>\n",
       "      <th>143</th>\n",
       "      <td>2020-11-24</td>\n",
       "      <td>November</td>\n",
       "      <td>14137.48</td>\n",
       "    </tr>\n",
       "    <tr>\n",
       "      <th>144</th>\n",
       "      <td>2020-11-25</td>\n",
       "      <td>November</td>\n",
       "      <td>14136.10</td>\n",
       "    </tr>\n",
       "  </tbody>\n",
       "</table>\n",
       "<p>144 rows × 3 columns</p>\n",
       "</div>"
      ],
      "text/plain": [
       "          date     month  daily_price\n",
       "1   2020-06-01      June     14586.74\n",
       "2   2020-06-02      June     14382.27\n",
       "3   2020-06-03      June     14060.79\n",
       "4   2020-06-04      June     14113.83\n",
       "5   2020-06-05      June     14305.96\n",
       "..         ...       ...          ...\n",
       "140 2020-11-19  November     14165.50\n",
       "141 2020-11-20  November     14162.61\n",
       "142 2020-11-23  November     14185.57\n",
       "143 2020-11-24  November     14137.48\n",
       "144 2020-11-25  November     14136.10\n",
       "\n",
       "[144 rows x 3 columns]"
      ]
     },
     "execution_count": 47,
     "metadata": {},
     "output_type": "execute_result"
    }
   ],
   "source": [
    "df = df.drop([0])\n",
    "df"
   ]
  },
  {
   "cell_type": "markdown",
   "metadata": {},
   "source": [
    "### First data visualization using `matplotlib`"
   ]
  },
  {
   "cell_type": "code",
   "execution_count": 48,
   "metadata": {
    "ExecuteTime": {
     "end_time": "2020-11-27T13:42:02.614393Z",
     "start_time": "2020-11-27T13:42:02.511779Z"
    },
    "scrolled": true
   },
   "outputs": [
    {
     "data": {
      "text/html": [
       "<div>\n",
       "<style scoped>\n",
       "    .dataframe tbody tr th:only-of-type {\n",
       "        vertical-align: middle;\n",
       "    }\n",
       "\n",
       "    .dataframe tbody tr th {\n",
       "        vertical-align: top;\n",
       "    }\n",
       "\n",
       "    .dataframe thead tr th {\n",
       "        text-align: left;\n",
       "    }\n",
       "\n",
       "    .dataframe thead tr:last-of-type th {\n",
       "        text-align: right;\n",
       "    }\n",
       "</style>\n",
       "<table border=\"1\" class=\"dataframe\">\n",
       "  <thead>\n",
       "    <tr>\n",
       "      <th></th>\n",
       "      <th>max</th>\n",
       "      <th>mean</th>\n",
       "      <th>min</th>\n",
       "    </tr>\n",
       "    <tr>\n",
       "      <th>col_0</th>\n",
       "      <th>daily_price</th>\n",
       "      <th>daily_price</th>\n",
       "      <th>daily_price</th>\n",
       "    </tr>\n",
       "    <tr>\n",
       "      <th>month</th>\n",
       "      <th></th>\n",
       "      <th></th>\n",
       "      <th></th>\n",
       "    </tr>\n",
       "  </thead>\n",
       "  <tbody>\n",
       "    <tr>\n",
       "      <th>August</th>\n",
       "      <td>14892.13</td>\n",
       "      <td>14678.022692</td>\n",
       "      <td>14510.27</td>\n",
       "    </tr>\n",
       "    <tr>\n",
       "      <th>July</th>\n",
       "      <td>14773.78</td>\n",
       "      <td>14505.603462</td>\n",
       "      <td>14256.13</td>\n",
       "    </tr>\n",
       "    <tr>\n",
       "      <th>June</th>\n",
       "      <td>14586.74</td>\n",
       "      <td>14124.307692</td>\n",
       "      <td>13867.95</td>\n",
       "    </tr>\n",
       "    <tr>\n",
       "      <th>November</th>\n",
       "      <td>14612.90</td>\n",
       "      <td>14222.720000</td>\n",
       "      <td>14040.16</td>\n",
       "    </tr>\n",
       "    <tr>\n",
       "      <th>October</th>\n",
       "      <td>14857.68</td>\n",
       "      <td>14698.504545</td>\n",
       "      <td>14555.88</td>\n",
       "    </tr>\n",
       "    <tr>\n",
       "      <th>September</th>\n",
       "      <td>14892.32</td>\n",
       "      <td>14805.981538</td>\n",
       "      <td>14657.30</td>\n",
       "    </tr>\n",
       "  </tbody>\n",
       "</table>\n",
       "</div>"
      ],
      "text/plain": [
       "                  max          mean         min\n",
       "col_0     daily_price   daily_price daily_price\n",
       "month                                          \n",
       "August       14892.13  14678.022692    14510.27\n",
       "July         14773.78  14505.603462    14256.13\n",
       "June         14586.74  14124.307692    13867.95\n",
       "November     14612.90  14222.720000    14040.16\n",
       "October      14857.68  14698.504545    14555.88\n",
       "September    14892.32  14805.981538    14657.30"
      ]
     },
     "execution_count": 48,
     "metadata": {},
     "output_type": "execute_result"
    }
   ],
   "source": [
    "df_tab = pd.crosstab(\n",
    "                index = df['month'],\n",
    "                columns = 'daily_price',\n",
    "                values= df['daily_price'],\n",
    "                aggfunc= ('max','min','mean')\n",
    ")\n",
    "df_tab"
   ]
  },
  {
   "cell_type": "code",
   "execution_count": 49,
   "metadata": {
    "ExecuteTime": {
     "end_time": "2020-11-27T13:42:04.296722Z",
     "start_time": "2020-11-27T13:42:04.279733Z"
    }
   },
   "outputs": [],
   "source": [
    "#df_tab = df_tab.reset_index()\n",
    "month_order = [\"June\", \"July\", \"August\", \"September\", \"October\", \"November\"]\n",
    "df_tab.index = pd.CategoricalIndex(df_tab.index,\\\n",
    "                        categories=month_order,\\\n",
    "                        ordered=True)\n",
    "df_tab = df_tab.sort_index()"
   ]
  },
  {
   "cell_type": "code",
   "execution_count": 50,
   "metadata": {
    "ExecuteTime": {
     "end_time": "2020-11-27T13:42:06.461501Z",
     "start_time": "2020-11-27T13:42:05.979812Z"
    }
   },
   "outputs": [
    {
     "data": {
      "text/plain": [
       "<matplotlib.axes._subplots.AxesSubplot at 0x23b4828b4c0>"
      ]
     },
     "execution_count": 50,
     "metadata": {},
     "output_type": "execute_result"
    },
    {
     "data": {
      "image/png": "[encoded data removed]",
      "text/plain": [
       "<Figure size 432x288 with 1 Axes>"
      ]
     },
     "metadata": {
      "needs_background": "light"
     },
     "output_type": "display_data"
    }
   ],
   "source": [
    "df_tab_vis = df_tab.sort_index().plot(kind='bar')\n",
    "df_tab_vis"
   ]
  },
  {
   "cell_type": "markdown",
   "metadata": {},
   "source": [
    "### Implementing your webscrapping to the flask dashboard\n",
    "\n",
    "- Copy paste all of your web scrapping process to the desired position on the `app.py`\n",
    "- Changing the title of the dasboard at `index.html`"
   ]
  },
  {
   "cell_type": "markdown",
   "metadata": {},
   "source": [
    "## Finishing This Notebook with Your Analysis and Conclusion\n",
    "\n",
    "First you can do start with making the data visualisation. "
   ]
  },
  {
   "cell_type": "code",
   "execution_count": 51,
   "metadata": {
    "ExecuteTime": {
     "end_time": "2020-11-27T13:42:11.281658Z",
     "start_time": "2020-11-27T13:42:10.445175Z"
    }
   },
   "outputs": [
    {
     "data": {
      "text/html": [
       "<div>\n",
       "<style scoped>\n",
       "    .dataframe tbody tr th:only-of-type {\n",
       "        vertical-align: middle;\n",
       "    }\n",
       "\n",
       "    .dataframe tbody tr th {\n",
       "        vertical-align: top;\n",
       "    }\n",
       "\n",
       "    .dataframe thead tr th {\n",
       "        text-align: left;\n",
       "    }\n",
       "\n",
       "    .dataframe thead tr:last-of-type th {\n",
       "        text-align: right;\n",
       "    }\n",
       "</style>\n",
       "<table border=\"1\" class=\"dataframe\">\n",
       "  <thead>\n",
       "    <tr>\n",
       "      <th></th>\n",
       "      <th>max</th>\n",
       "      <th>mean</th>\n",
       "      <th>min</th>\n",
       "    </tr>\n",
       "    <tr>\n",
       "      <th>col_0</th>\n",
       "      <th>daily_price</th>\n",
       "      <th>daily_price</th>\n",
       "      <th>daily_price</th>\n",
       "    </tr>\n",
       "    <tr>\n",
       "      <th>month</th>\n",
       "      <th></th>\n",
       "      <th></th>\n",
       "      <th></th>\n",
       "    </tr>\n",
       "  </thead>\n",
       "  <tbody>\n",
       "    <tr>\n",
       "      <th>June</th>\n",
       "      <td>14586.74</td>\n",
       "      <td>14124.307692</td>\n",
       "      <td>13867.95</td>\n",
       "    </tr>\n",
       "    <tr>\n",
       "      <th>July</th>\n",
       "      <td>14773.78</td>\n",
       "      <td>14505.603462</td>\n",
       "      <td>14256.13</td>\n",
       "    </tr>\n",
       "    <tr>\n",
       "      <th>August</th>\n",
       "      <td>14892.13</td>\n",
       "      <td>14678.022692</td>\n",
       "      <td>14510.27</td>\n",
       "    </tr>\n",
       "    <tr>\n",
       "      <th>September</th>\n",
       "      <td>14892.32</td>\n",
       "      <td>14805.981538</td>\n",
       "      <td>14657.30</td>\n",
       "    </tr>\n",
       "    <tr>\n",
       "      <th>October</th>\n",
       "      <td>14857.68</td>\n",
       "      <td>14698.504545</td>\n",
       "      <td>14555.88</td>\n",
       "    </tr>\n",
       "    <tr>\n",
       "      <th>November</th>\n",
       "      <td>14612.90</td>\n",
       "      <td>14222.720000</td>\n",
       "      <td>14040.16</td>\n",
       "    </tr>\n",
       "  </tbody>\n",
       "</table>\n",
       "</div>"
      ],
      "text/plain": [
       "                  max          mean         min\n",
       "col_0     daily_price   daily_price daily_price\n",
       "month                                          \n",
       "June         14586.74  14124.307692    13867.95\n",
       "July         14773.78  14505.603462    14256.13\n",
       "August       14892.13  14678.022692    14510.27\n",
       "September    14892.32  14805.981538    14657.30\n",
       "October      14857.68  14698.504545    14555.88\n",
       "November     14612.90  14222.720000    14040.16"
      ]
     },
     "execution_count": 51,
     "metadata": {},
     "output_type": "execute_result"
    },
    {
     "data": {
      "image/png": "[encoded data removed]",
      "text/plain": [
       "<Figure size 432x288 with 1 Axes>"
      ]
     },
     "metadata": {
      "needs_background": "light"
     },
     "output_type": "display_data"
    },
    {
     "data": {
      "image/png": "[encoded data removed]",
      "text/plain": [
       "<Figure size 432x288 with 1 Axes>"
      ]
     },
     "metadata": {
      "needs_background": "light"
     },
     "output_type": "display_data"
    }
   ],
   "source": [
    "df_tab.sort_index().plot(kind='bar')\n",
    "df_tab.plot()\n",
    "df_tab"
   ]
  },
  {
   "cell_type": "markdown",
   "metadata": {},
   "source": [
    "After carrying out several processes and steps as described earlier, 3 results were obtained from data collection, namely the `minimum value,` the `maximum value` and the `average value` for each month. The data was taken from https://www.exchange-rates.org/history/IDR/USD/T from June 1st, 2020 to November 25th, 2020. \\\n",
    "\n",
    "From the coding process using Pyhton and Jupyter Notebook, i get 4 coclusion that i think important.\n",
    "1. Maximum exchange rate in **September** = IDR 14,892.32\n",
    "2. Minimum exchange rate in **June** = IDR 13,867.95\n",
    "3. Highest average exchange rate in **September** = IDR 14,805.98\n",
    "4. Lowest average exchange rate in **June** = IDR 14,124.30"
   ]
  },
  {
   "cell_type": "markdown",
   "metadata": {},
   "source": [
    "### Extra Challange\n",
    "\n",
    "This will be not included to the scoring. \n",
    "\n",
    "- You can create additional analysis from the data.\n",
    "- Implement it to the dashboard with at `app.py` dan `index.html`."
   ]
  },
  {
   "cell_type": "code",
   "execution_count": null,
   "metadata": {},
   "outputs": [],
   "source": []
  }
 ],
 "metadata": {
  "kernelspec": {
   "display_name": "VEnv1 Data Analytic",
   "language": "python",
   "name": "venv1"
  },
  "language_info": {
   "codemirror_mode": {
    "name": "ipython",
    "version": 3
   },
   "file_extension": ".py",
   "mimetype": "text/x-python",
   "name": "python",
   "nbconvert_exporter": "python",
   "pygments_lexer": "ipython3",
   "version": "3.8.3"
  },
  "toc": {
   "base_numbering": 1,
   "nav_menu": {},
   "number_sections": true,
   "sideBar": true,
   "skip_h1_title": false,
   "title_cell": "Table of Contents",
   "title_sidebar": "Contents",
   "toc_cell": false,
   "toc_position": {},
   "toc_section_display": true,
   "toc_window_display": false
  }
 },
 "nbformat": 4,
 "nbformat_minor": 2
}
